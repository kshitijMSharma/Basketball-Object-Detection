{
 "cells": [
  {
   "cell_type": "markdown",
   "id": "716209ef",
   "metadata": {},
   "source": [
    "# 1. Import Dependencies"
   ]
  },
  {
   "cell_type": "code",
   "execution_count": 1,
   "id": "29615427",
   "metadata": {},
   "outputs": [
    {
     "name": "stdout",
     "output_type": "stream",
     "text": [
      "Requirement already satisfied: opencv-python in d:\\wpi\\cv wpi\\cv project\\bbod\\lib\\site-packages (4.5.4.58)"
     ]
    },
    {
     "name": "stderr",
     "output_type": "stream",
     "text": [
      "WARNING: Ignoring invalid distribution -otobuf (d:\\wpi\\cv wpi\\cv project\\bbod\\lib\\site-packages)\n",
      "WARNING: Ignoring invalid distribution -2otobuf (d:\\wpi\\cv wpi\\cv project\\bbod\\lib\\site-packages)\n",
      "WARNING: Ignoring invalid distribution -1otobuf (d:\\wpi\\cv wpi\\cv project\\bbod\\lib\\site-packages)\n",
      "WARNING: Ignoring invalid distribution -rotobuf (d:\\wpi\\cv wpi\\cv project\\bbod\\lib\\site-packages)\n",
      "WARNING: Ignoring invalid distribution -otobuf (d:\\wpi\\cv wpi\\cv project\\bbod\\lib\\site-packages)\n",
      "WARNING: Ignoring invalid distribution -0otobuf (d:\\wpi\\cv wpi\\cv project\\bbod\\lib\\site-packages)\n",
      "WARNING: Ignoring invalid distribution - (d:\\wpi\\cv wpi\\cv project\\bbod\\lib\\site-packages)\n",
      "WARNING: Ignoring invalid distribution -otobuf (d:\\wpi\\cv wpi\\cv project\\bbod\\lib\\site-packages)\n",
      "WARNING: Ignoring invalid distribution -2otobuf (d:\\wpi\\cv wpi\\cv project\\bbod\\lib\\site-packages)\n",
      "WARNING: Ignoring invalid distribution -1otobuf (d:\\wpi\\cv wpi\\cv project\\bbod\\lib\\site-packages)\n",
      "WARNING: Ignoring invalid distribution -rotobuf (d:\\wpi\\cv wpi\\cv project\\bbod\\lib\\site-packages)\n",
      "WARNING: Ignoring invalid distribution -otobuf (d:\\wpi\\cv wpi\\cv project\\bbod\\lib\\site-packages)\n",
      "WARNING: Ignoring invalid distribution -0otobuf (d:\\wpi\\cv wpi\\cv project\\bbod\\lib\\site-packages)\n",
      "WARNING: Ignoring invalid distribution - (d:\\wpi\\cv wpi\\cv project\\bbod\\lib\\site-packages)\n",
      "WARNING: Ignoring invalid distribution -otobuf (d:\\wpi\\cv wpi\\cv project\\bbod\\lib\\site-packages)\n",
      "WARNING: Ignoring invalid distribution -2otobuf (d:\\wpi\\cv wpi\\cv project\\bbod\\lib\\site-packages)\n",
      "WARNING: Ignoring invalid distribution -1otobuf (d:\\wpi\\cv wpi\\cv project\\bbod\\lib\\site-packages)\n",
      "WARNING: Ignoring invalid distribution -rotobuf (d:\\wpi\\cv wpi\\cv project\\bbod\\lib\\site-packages)\n",
      "WARNING: Ignoring invalid distribution -otobuf (d:\\wpi\\cv wpi\\cv project\\bbod\\lib\\site-packages)\n",
      "WARNING: Ignoring invalid distribution -0otobuf (d:\\wpi\\cv wpi\\cv project\\bbod\\lib\\site-packages)\n",
      "WARNING: Ignoring invalid distribution - (d:\\wpi\\cv wpi\\cv project\\bbod\\lib\\site-packages)\n",
      "WARNING: Ignoring invalid distribution -otobuf (d:\\wpi\\cv wpi\\cv project\\bbod\\lib\\site-packages)\n",
      "WARNING: Ignoring invalid distribution -2otobuf (d:\\wpi\\cv wpi\\cv project\\bbod\\lib\\site-packages)\n",
      "WARNING: Ignoring invalid distribution -1otobuf (d:\\wpi\\cv wpi\\cv project\\bbod\\lib\\site-packages)\n",
      "WARNING: Ignoring invalid distribution -rotobuf (d:\\wpi\\cv wpi\\cv project\\bbod\\lib\\site-packages)\n",
      "WARNING: Ignoring invalid distribution -otobuf (d:\\wpi\\cv wpi\\cv project\\bbod\\lib\\site-packages)\n",
      "WARNING: Ignoring invalid distribution -0otobuf (d:\\wpi\\cv wpi\\cv project\\bbod\\lib\\site-packages)\n",
      "WARNING: Ignoring invalid distribution - (d:\\wpi\\cv wpi\\cv project\\bbod\\lib\\site-packages)\n",
      "WARNING: Ignoring invalid distribution -otobuf (d:\\wpi\\cv wpi\\cv project\\bbod\\lib\\site-packages)\n",
      "WARNING: Ignoring invalid distribution -2otobuf (d:\\wpi\\cv wpi\\cv project\\bbod\\lib\\site-packages)\n",
      "WARNING: Ignoring invalid distribution -1otobuf (d:\\wpi\\cv wpi\\cv project\\bbod\\lib\\site-packages)\n",
      "WARNING: Ignoring invalid distribution -rotobuf (d:\\wpi\\cv wpi\\cv project\\bbod\\lib\\site-packages)\n",
      "WARNING: Ignoring invalid distribution -otobuf (d:\\wpi\\cv wpi\\cv project\\bbod\\lib\\site-packages)\n",
      "WARNING: Ignoring invalid distribution -0otobuf (d:\\wpi\\cv wpi\\cv project\\bbod\\lib\\site-packages)\n",
      "WARNING: Ignoring invalid distribution - (d:\\wpi\\cv wpi\\cv project\\bbod\\lib\\site-packages)\n"
     ]
    },
    {
     "name": "stdout",
     "output_type": "stream",
     "text": [
      "\n",
      "Requirement already satisfied: numpy>=1.17.3 in d:\\wpi\\cv wpi\\cv project\\bbod\\lib\\site-packages (from opencv-python) (1.21.4)\n"
     ]
    }
   ],
   "source": [
    "!pip install opencv-python"
   ]
  },
  {
   "cell_type": "code",
   "execution_count": 2,
   "id": "6720f690",
   "metadata": {},
   "outputs": [],
   "source": [
    " # importing opencv\n",
    "import cv2\n",
    "\n",
    "# for assigning unique ids if collecting more images\n",
    "import uuid \n",
    "\n",
    "# import operating system for creating folders and defining paths while working with object detection models\n",
    "import os\n",
    "\n",
    " # while working with open cv methods\n",
    "import time"
   ]
  },
  {
   "cell_type": "markdown",
   "id": "6410d3a2",
   "metadata": {},
   "source": [
    "# 2. Setup Folders"
   ]
  },
  {
   "cell_type": "code",
   "execution_count": 3,
   "id": "211ecd9e",
   "metadata": {},
   "outputs": [],
   "source": [
    "IMAGES_PATH = os.path.join('Basketball_OD','workspace','images','collected_images','basket_ball_images')"
   ]
  },
  {
   "cell_type": "code",
   "execution_count": 4,
   "id": "60d0ce8d",
   "metadata": {},
   "outputs": [
    {
     "name": "stdout",
     "output_type": "stream",
     "text": [
      "Basketball_OD\\workspace\\images\\collected_images\\basket_ball_images\n"
     ]
    }
   ],
   "source": [
    "print(IMAGES_PATH)"
   ]
  },
  {
   "cell_type": "code",
   "execution_count": 5,
   "id": "e3594b61",
   "metadata": {},
   "outputs": [],
   "source": [
    "if not os.path.exists(IMAGES_PATH):\n",
    "    if os.name == 'posix':\n",
    "        !mkdir -p {IMAGES_PATH}\n",
    "    if os.name == 'nt':\n",
    "        !mkdir {IMAGES_PATH}"
   ]
  },
  {
   "cell_type": "markdown",
   "id": "5642a37e",
   "metadata": {},
   "source": [
    "# 3. Image Labelling"
   ]
  },
  {
   "cell_type": "markdown",
   "id": "a9273b44",
   "metadata": {},
   "source": [
    "### pyqt5 for building GUI apps in python and lxml for web apps"
   ]
  },
  {
   "cell_type": "code",
   "execution_count": 6,
   "id": "710f174c",
   "metadata": {},
   "outputs": [
    {
     "name": "stdout",
     "output_type": "stream",
     "text": [
      "Requirement already satisfied: pyqt5 in d:\\wpi\\cv wpi\\cv project\\bbod\\lib\\site-packages (5.15.6)\n",
      "Requirement already satisfied: lxml in d:\\wpi\\cv wpi\\cv project\\bbod\\lib\\site-packages (4.6.4)\n",
      "Requirement already satisfied: PyQt5-Qt5>=5.15.2 in d:\\wpi\\cv wpi\\cv project\\bbod\\lib\\site-packages (from pyqt5) (5.15.2)\n",
      "Requirement already satisfied: PyQt5-sip<13,>=12.8 in d:\\wpi\\cv wpi\\cv project\\bbod\\lib\\site-packages (from pyqt5) (12.9.0)\n"
     ]
    },
    {
     "name": "stderr",
     "output_type": "stream",
     "text": [
      "WARNING: Ignoring invalid distribution -otobuf (d:\\wpi\\cv wpi\\cv project\\bbod\\lib\\site-packages)\n",
      "WARNING: Ignoring invalid distribution -2otobuf (d:\\wpi\\cv wpi\\cv project\\bbod\\lib\\site-packages)\n",
      "WARNING: Ignoring invalid distribution -1otobuf (d:\\wpi\\cv wpi\\cv project\\bbod\\lib\\site-packages)\n",
      "WARNING: Ignoring invalid distribution -rotobuf (d:\\wpi\\cv wpi\\cv project\\bbod\\lib\\site-packages)\n",
      "WARNING: Ignoring invalid distribution -otobuf (d:\\wpi\\cv wpi\\cv project\\bbod\\lib\\site-packages)\n",
      "WARNING: Ignoring invalid distribution -0otobuf (d:\\wpi\\cv wpi\\cv project\\bbod\\lib\\site-packages)\n",
      "WARNING: Ignoring invalid distribution - (d:\\wpi\\cv wpi\\cv project\\bbod\\lib\\site-packages)\n",
      "WARNING: Ignoring invalid distribution -otobuf (d:\\wpi\\cv wpi\\cv project\\bbod\\lib\\site-packages)\n",
      "WARNING: Ignoring invalid distribution -2otobuf (d:\\wpi\\cv wpi\\cv project\\bbod\\lib\\site-packages)\n",
      "WARNING: Ignoring invalid distribution -1otobuf (d:\\wpi\\cv wpi\\cv project\\bbod\\lib\\site-packages)\n",
      "WARNING: Ignoring invalid distribution -rotobuf (d:\\wpi\\cv wpi\\cv project\\bbod\\lib\\site-packages)\n",
      "WARNING: Ignoring invalid distribution -otobuf (d:\\wpi\\cv wpi\\cv project\\bbod\\lib\\site-packages)\n",
      "WARNING: Ignoring invalid distribution -0otobuf (d:\\wpi\\cv wpi\\cv project\\bbod\\lib\\site-packages)\n",
      "WARNING: Ignoring invalid distribution - (d:\\wpi\\cv wpi\\cv project\\bbod\\lib\\site-packages)\n",
      "WARNING: Ignoring invalid distribution -otobuf (d:\\wpi\\cv wpi\\cv project\\bbod\\lib\\site-packages)\n",
      "WARNING: Ignoring invalid distribution -2otobuf (d:\\wpi\\cv wpi\\cv project\\bbod\\lib\\site-packages)\n",
      "WARNING: Ignoring invalid distribution -1otobuf (d:\\wpi\\cv wpi\\cv project\\bbod\\lib\\site-packages)\n",
      "WARNING: Ignoring invalid distribution -rotobuf (d:\\wpi\\cv wpi\\cv project\\bbod\\lib\\site-packages)\n",
      "WARNING: Ignoring invalid distribution -otobuf (d:\\wpi\\cv wpi\\cv project\\bbod\\lib\\site-packages)\n",
      "WARNING: Ignoring invalid distribution -0otobuf (d:\\wpi\\cv wpi\\cv project\\bbod\\lib\\site-packages)\n",
      "WARNING: Ignoring invalid distribution - (d:\\wpi\\cv wpi\\cv project\\bbod\\lib\\site-packages)\n",
      "WARNING: Ignoring invalid distribution -otobuf (d:\\wpi\\cv wpi\\cv project\\bbod\\lib\\site-packages)\n",
      "WARNING: Ignoring invalid distribution -2otobuf (d:\\wpi\\cv wpi\\cv project\\bbod\\lib\\site-packages)\n",
      "WARNING: Ignoring invalid distribution -1otobuf (d:\\wpi\\cv wpi\\cv project\\bbod\\lib\\site-packages)\n",
      "WARNING: Ignoring invalid distribution -rotobuf (d:\\wpi\\cv wpi\\cv project\\bbod\\lib\\site-packages)\n",
      "WARNING: Ignoring invalid distribution -otobuf (d:\\wpi\\cv wpi\\cv project\\bbod\\lib\\site-packages)\n",
      "WARNING: Ignoring invalid distribution -0otobuf (d:\\wpi\\cv wpi\\cv project\\bbod\\lib\\site-packages)\n",
      "WARNING: Ignoring invalid distribution - (d:\\wpi\\cv wpi\\cv project\\bbod\\lib\\site-packages)\n",
      "WARNING: Ignoring invalid distribution -otobuf (d:\\wpi\\cv wpi\\cv project\\bbod\\lib\\site-packages)\n",
      "WARNING: Ignoring invalid distribution -2otobuf (d:\\wpi\\cv wpi\\cv project\\bbod\\lib\\site-packages)\n",
      "WARNING: Ignoring invalid distribution -1otobuf (d:\\wpi\\cv wpi\\cv project\\bbod\\lib\\site-packages)\n",
      "WARNING: Ignoring invalid distribution -rotobuf (d:\\wpi\\cv wpi\\cv project\\bbod\\lib\\site-packages)\n",
      "WARNING: Ignoring invalid distribution -otobuf (d:\\wpi\\cv wpi\\cv project\\bbod\\lib\\site-packages)\n",
      "WARNING: Ignoring invalid distribution -0otobuf (d:\\wpi\\cv wpi\\cv project\\bbod\\lib\\site-packages)\n",
      "WARNING: Ignoring invalid distribution - (d:\\wpi\\cv wpi\\cv project\\bbod\\lib\\site-packages)\n"
     ]
    }
   ],
   "source": [
    "!pip install --upgrade pyqt5 lxml"
   ]
  },
  {
   "cell_type": "code",
   "execution_count": 7,
   "id": "c4c1fa98",
   "metadata": {},
   "outputs": [
    {
     "name": "stdout",
     "output_type": "stream",
     "text": [
      "Package                       Version   Editable project location\n",
      "----------------------------- --------- -----------------------------------------------------------\n",
      "absl-py                       1.0.0\n",
      "apache-beam                   2.35.0rc2\n",
      "astunparse                    1.6.3\n",
      "avro-python3                  1.10.2\n",
      "backcall                      0.2.0\n",
      "cachetools                    4.2.4\n",
      "certifi                       2021.10.8\n",
      "charset-normalizer            2.0.8\n",
      "colorama                      0.4.4\n",
      "contextlib2                   21.6.0\n",
      "cycler                        0.11.0\n",
      "Cython                        3.0.0a9\n",
      "debugpy                       1.5.1\n",
      "decorator                     5.1.0\n",
      "entrypoints                   0.3\n",
      "flatbuffers                   2.0\n",
      "fonttools                     4.28.2\n",
      "gast                          0.4.0\n",
      "gin                           0.1.6\n",
      "gin-config                    0.5.0\n",
      "google-api-python-client      2.32.0\n",
      "google-auth                   2.3.3\n",
      "google-auth-oauthlib          0.4.6\n",
      "google-pasta                  0.2.0\n",
      "grpcio                        1.42.0\n",
      "h5py                          3.6.0\n",
      "idna                          3.3\n",
      "importlib-metadata            4.8.2\n",
      "ipykernel                     6.5.0\n",
      "ipython                       7.29.0\n",
      "jedi                          0.18.1\n",
      "jupyter-client                7.0.6\n",
      "jupyter-core                  4.9.1\n",
      "kaggle                        1.5.12\n",
      "keras                         2.7.0\n",
      "Keras-Preprocessing           1.1.2\n",
      "kiwisolver                    1.3.2\n",
      "libclang                      12.0.0\n",
      "lvis                          0.5.3\n",
      "lxml                          4.6.4\n",
      "Markdown                      3.3.6\n",
      "matplotlib                    3.5.1\n",
      "matplotlib-inline             0.1.3\n",
      "nest-asyncio                  1.5.1\n",
      "numpy                         1.21.4\n",
      "oauth2client                  4.1.3\n",
      "oauthlib                      3.1.1\n",
      "object-detection              0.1\n",
      "opencv-python                 4.5.4.58\n",
      "opencv-python-headless        4.5.4.60\n",
      "opt-einsum                    3.3.0\n",
      "orjson                        3.6.4\n",
      "packaging                     21.3\n",
      "pandas                        1.3.4\n",
      "parso                         0.8.2\n",
      "pickleshare                   0.7.5\n",
      "Pillow                        8.4.0\n",
      "pip                           21.3.1\n",
      "prompt-toolkit                3.0.22\n",
      "protobuf                      3.19.1\n",
      "psutil                        5.8.0\n",
      "py-cpuinfo                    8.0.0\n",
      "pyarrow                       6.0.1\n",
      "pyasn1                        0.4.8\n",
      "pyasn1-modules                0.2.8\n",
      "pycocotools                   2.0.3\n",
      "pydot                         1.4.2\n",
      "Pygments                      2.10.0\n",
      "pymongo                       3.12.2\n",
      "pyparsing                     3.0.6\n",
      "PyQt5                         5.15.6\n",
      "PyQt5-Qt5                     5.15.2\n",
      "PyQt5-sip                     12.9.0\n",
      "python-dateutil               2.8.2\n",
      "pytz                          2021.3\n",
      "pywin32                       302\n",
      "PyYAML                        6.0\n",
      "pyzmq                         22.3.0\n",
      "requests                      2.26.0\n",
      "requests-oauthlib             1.3.0\n",
      "rsa                           4.8\n",
      "sacrebleu                     2.0.0\n",
      "scipy                         1.7.3\n",
      "sentencepiece                 0.1.96\n",
      "seqeval                       1.2.2\n",
      "setuptools                    49.2.1\n",
      "setuptools-scm                6.3.2\n",
      "six                           1.16.0\n",
      "slim                          0.1       d:\\wpi\\cv wpi\\cv project\\basketball_od\\models\\research\\slim\n",
      "tensorboard                   2.7.0\n",
      "tensorboard-data-server       0.6.1\n",
      "tensorboard-plugin-wit        1.8.0\n",
      "tensorflow                    2.7.0\n",
      "tensorflow-addons             0.15.0\n",
      "tensorflow-datasets           4.4.0\n",
      "tensorflow-estimator          2.7.0\n",
      "tensorflow-gpu                2.7.0\n",
      "tensorflow-hub                0.12.0\n",
      "tensorflow-io                 0.22.0\n",
      "tensorflow-io-gcs-filesystem  0.22.0\n",
      "tensorflow-model-optimization 0.7.0\n",
      "tensorflow-text               2.7.3\n",
      "termcolor                     1.1.0\n",
      "tf-models-official            2.7.0\n",
      "tf-slim                       1.1.0\n",
      "tomli                         1.2.2\n",
      "tornado                       6.1\n",
      "traitlets                     5.1.1\n",
      "typeguard                     2.13.2\n",
      "typing_extensions             4.0.0\n",
      "urllib3                       1.26.7\n",
      "wcwidth                       0.2.5\n",
      "Werkzeug                      2.0.2\n",
      "wget                          3.2\n",
      "wheel                         0.37.0\n",
      "wrapt                         1.13.3\n",
      "zipp                          3.6.0\n"
     ]
    },
    {
     "name": "stderr",
     "output_type": "stream",
     "text": [
      "WARNING: Ignoring invalid distribution -otobuf (d:\\wpi\\cv wpi\\cv project\\bbod\\lib\\site-packages)\n",
      "WARNING: Ignoring invalid distribution -2otobuf (d:\\wpi\\cv wpi\\cv project\\bbod\\lib\\site-packages)\n",
      "WARNING: Ignoring invalid distribution -1otobuf (d:\\wpi\\cv wpi\\cv project\\bbod\\lib\\site-packages)\n",
      "WARNING: Ignoring invalid distribution -rotobuf (d:\\wpi\\cv wpi\\cv project\\bbod\\lib\\site-packages)\n",
      "WARNING: Ignoring invalid distribution -otobuf (d:\\wpi\\cv wpi\\cv project\\bbod\\lib\\site-packages)\n",
      "WARNING: Ignoring invalid distribution -0otobuf (d:\\wpi\\cv wpi\\cv project\\bbod\\lib\\site-packages)\n",
      "WARNING: Ignoring invalid distribution - (d:\\wpi\\cv wpi\\cv project\\bbod\\lib\\site-packages)\n",
      "WARNING: Ignoring invalid distribution -otobuf (d:\\wpi\\cv wpi\\cv project\\bbod\\lib\\site-packages)\n",
      "WARNING: Ignoring invalid distribution -2otobuf (d:\\wpi\\cv wpi\\cv project\\bbod\\lib\\site-packages)\n",
      "WARNING: Ignoring invalid distribution -1otobuf (d:\\wpi\\cv wpi\\cv project\\bbod\\lib\\site-packages)\n",
      "WARNING: Ignoring invalid distribution -rotobuf (d:\\wpi\\cv wpi\\cv project\\bbod\\lib\\site-packages)\n",
      "WARNING: Ignoring invalid distribution -otobuf (d:\\wpi\\cv wpi\\cv project\\bbod\\lib\\site-packages)\n",
      "WARNING: Ignoring invalid distribution -0otobuf (d:\\wpi\\cv wpi\\cv project\\bbod\\lib\\site-packages)\n",
      "WARNING: Ignoring invalid distribution - (d:\\wpi\\cv wpi\\cv project\\bbod\\lib\\site-packages)\n",
      "WARNING: Ignoring invalid distribution -otobuf (d:\\wpi\\cv wpi\\cv project\\bbod\\lib\\site-packages)\n",
      "WARNING: Ignoring invalid distribution -2otobuf (d:\\wpi\\cv wpi\\cv project\\bbod\\lib\\site-packages)\n",
      "WARNING: Ignoring invalid distribution -1otobuf (d:\\wpi\\cv wpi\\cv project\\bbod\\lib\\site-packages)\n",
      "WARNING: Ignoring invalid distribution -rotobuf (d:\\wpi\\cv wpi\\cv project\\bbod\\lib\\site-packages)\n",
      "WARNING: Ignoring invalid distribution -otobuf (d:\\wpi\\cv wpi\\cv project\\bbod\\lib\\site-packages)\n",
      "WARNING: Ignoring invalid distribution -0otobuf (d:\\wpi\\cv wpi\\cv project\\bbod\\lib\\site-packages)\n",
      "WARNING: Ignoring invalid distribution - (d:\\wpi\\cv wpi\\cv project\\bbod\\lib\\site-packages)\n"
     ]
    }
   ],
   "source": [
    "!pip list"
   ]
  },
  {
   "cell_type": "code",
   "execution_count": 8,
   "id": "4f008b62",
   "metadata": {},
   "outputs": [],
   "source": [
    "LABELIMG_PATH = os.path.join('Basketball_OD','labelimg')"
   ]
  },
  {
   "cell_type": "code",
   "execution_count": 9,
   "id": "3989be16",
   "metadata": {},
   "outputs": [],
   "source": [
    "if not os.path.exists(LABELIMG_PATH):\n",
    "    !mkdir {LABELIMG_PATH}\n",
    "    !git clone https://github.com/tzutalin/labelImg {LABELIMG_PATH}"
   ]
  },
  {
   "cell_type": "code",
   "execution_count": 10,
   "id": "8aa355a0",
   "metadata": {},
   "outputs": [
    {
     "data": {
      "text/plain": [
       "'Basketball_OD\\\\labelimg'"
      ]
     },
     "execution_count": 10,
     "metadata": {},
     "output_type": "execute_result"
    }
   ],
   "source": [
    "LABELIMG_PATH"
   ]
  },
  {
   "cell_type": "code",
   "execution_count": 11,
   "id": "a82018b9",
   "metadata": {},
   "outputs": [],
   "source": [
    "# this cell follows from the installation steps of the labelling app from the tzutalin's git hub repo\n",
    "if os.name == 'posix':\n",
    "    !cd {LABELIMG_PATH} && make qt5py3\n",
    "if os.name == 'nt':\n",
    "    !cd {LABELIMG_PATH} && pyrcc5 -o libs/resources.py resources.qrc"
   ]
  },
  {
   "cell_type": "code",
   "execution_count": 13,
   "id": "9fe2ffae",
   "metadata": {},
   "outputs": [
    {
     "name": "stderr",
     "output_type": "stream",
     "text": [
      "labelImg.py:965: DeprecationWarning: an integer is required (got type float).  Implicit conversion to integers using __int__ is deprecated, and may be removed in a future version of Python.\n",
      "  bar.setValue(bar.value() + bar.singleStep() * units)\n"
     ]
    }
   ],
   "source": [
    "!cd {LABELIMG_PATH} && python labelImg.py"
   ]
  },
  {
   "cell_type": "code",
   "execution_count": null,
   "id": "ccefb9a7",
   "metadata": {},
   "outputs": [],
   "source": []
  }
 ],
 "metadata": {
  "kernelspec": {
   "display_name": "BBOD",
   "language": "python",
   "name": "bbod"
  },
  "language_info": {
   "codemirror_mode": {
    "name": "ipython",
    "version": 3
   },
   "file_extension": ".py",
   "mimetype": "text/x-python",
   "name": "python",
   "nbconvert_exporter": "python",
   "pygments_lexer": "ipython3",
   "version": "3.8.8"
  }
 },
 "nbformat": 4,
 "nbformat_minor": 5
}
